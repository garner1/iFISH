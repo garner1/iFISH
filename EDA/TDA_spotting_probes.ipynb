{
 "cells": [
  {
   "cell_type": "markdown",
   "metadata": {},
   "source": [
    "# Topological data analysis of spotting-probes point clouds\n",
    "\n",
    "Given a point cloud derived from three-dimensional probes locations we want to analyze the shape of data, for the purpose of studying statistics of chromosomal shapes in a given cell population, comparing different chromosomes and identifying recurrent topological patterns.\n",
    "Topological Data Analysis (TDA) is a set of method allowing us to quantify the shape of the data in a rigorous manner. \n",
    "<img src=\"PHbarcodeExample.png\">\n",
    "As the image above shows the idea is to expand spheres centered at each point, and while doing this to keep track of the number of connected components (b<sub>0</sub>), holes (b<sub>1</sub>) and voids (not shown in the figure) that emerge as a result of the expanding spheres radious ($\\epsilon$). A summary of this information is provided by persistent diagrams (top part of the figure below) and persistent barcodes (bottom part fo the figure below):\n",
    "<img src=\"rplot01.png\">\n",
    "One can then compare different topological summaries using the bottleneck and the Wasserstein distances.\n",
    "\n",
    "## Example with real data\n",
    "Let's consider the following dataset (UserDots_iEG408_003_d0_a594/014_006_1.csv):\n",
    "<img src=\"a594_014_006_1.png\">\n",
    "applying TDA we get the following diagrams summarizing the start (birth) and end (death) of clusters (in black), loops (in red) and voids (in blue):\n",
    "<img src=\"p_dia.png\">\n",
    "<img src=\"bc_dia.png\">\n",
    "Now let's consider a second dataset (UserDots_iEG408_003_d0_a594/014_006_2.csv), the other homologue in the pair observed in the same nucleus. From this one we have the following plots:\n",
    "<img src=\"a594_014_006_2.png\">\n",
    "<img src=\"p_dia_2.png\">\n",
    "<img src=\"bc_dia_2.png\">\n",
    "Having a pair of point clouds it is also possible to quantify the similarity between their topological features, and quantify the fluctuations present in the topological summary of the point-clouds.\n",
    "\n",
    "## Statistics of distances between topological summaries\n",
    "Given two point clouds, for each we evaluate the persistent diagram and then we take the p-Wassertein distance (with p=2) between the two diagrams, divided by the number of points in the larger cloud of the pair. The distance is a function D depending on {chr#1, chr#2, dimension of the homological features (i.e. clusters, loops or voids)}. To start we consider the case where chr#1=chr#2=chromosome 1 (dataset UserDots_IEG364_004 with 16 clouds with at least 20 points) and we plot the distribution of distances between all point clouds with at least 20 points:\n",
    "<img src=\"2wd_chr1_dim0_16clouds.png\">\n",
    "<img src=\"2wd_chr1_dim1_16clouds.png\">\n",
    "We then consider chromosome 20 (dataset UserDots_iEG408_003_d0_a594 with 28 clouds with at least 20 points):\n",
    "<img src=\"2wd_chr20_dim0_28clouds.png\">\n",
    "<img src=\"2wd_chr20_dim1_28clouds.png\">\n",
    "We then consider chromosome 2 (dataset UserDots_iEG408_003_d0_cy5 with 69 clouds with at least 20 points):\n",
    "<img src=\"2wd_chr2_dim0_69clouds.png\">\n",
    "<img src=\"2wd_chr2_dim1_69clouds.png\">\n",
    "And here is a violin plot summarizing the statistics for dim = 0 (clusters):\n",
    "<img src=\"violin_plot_dim0.png\">\n",
    "and for dim = 1 (loops):\n",
    "<img src=\"violin_plot_dim1.png\">\n",
    "Bringing all the different violin plots together we can compare intra- and inter-chromosomal topological fluctuations:\n",
    "<img src=\"fluct_dim0.png\">\n",
    "<img src=\"fluct_dim1.png\">\n",
    "\n",
    "## Silhouettes\n",
    "Persistence silhouettes are real valued functions summarizing the information contained in a persistence diagram [REF]. Consider first the triangle function assosiated to a persistence diagram with N points, each defined by the pair (b,d) of birth and death coordinates:"
   ]
  }
 ],
 "metadata": {
  "anaconda-cloud": {},
  "kernelspec": {
   "display_name": "Python [default]",
   "language": "python",
   "name": "python2"
  },
  "language_info": {
   "codemirror_mode": {
    "name": "ipython",
    "version": 2
   },
   "file_extension": ".py",
   "mimetype": "text/x-python",
   "name": "python",
   "nbconvert_exporter": "python",
   "pygments_lexer": "ipython2",
   "version": "2.7.12"
  }
 },
 "nbformat": 4,
 "nbformat_minor": 1
}
